{
 "cells": [
  {
   "cell_type": "code",
   "execution_count": 1,
   "id": "2a51eede",
   "metadata": {},
   "outputs": [],
   "source": [
    "# HYPOTHESIS TESTING\n",
    "# Given data\n",
    "sample_mean = 3050  \n",
    "theoretical_mean = 1000 + 5 * 600  \n",
    "cost_per_unit = 5\n",
    "population_std = cost_per_unit * 25  \n",
    "sample_size = 25  \n",
    "alpha = 0.05  # Significance level"
   ]
  },
  {
   "cell_type": "code",
   "execution_count": 2,
   "id": "062efa0e",
   "metadata": {},
   "outputs": [],
   "source": [
    "# State the Hypotheses:\n",
    "# Ho: Null Hypothesis --> Data is following normal distribution.They are independent(No relationship)\n",
    "# H1: Alternative Hypothesis ---> Data is not following normal distribution.They are dependent (Relationship is their)\n",
    "    "
   ]
  },
  {
   "cell_type": "code",
   "execution_count": 3,
   "id": "dc618175",
   "metadata": {},
   "outputs": [
    {
     "name": "stdout",
     "output_type": "stream",
     "text": [
      "-38.0\n"
     ]
    }
   ],
   "source": [
    "import numpy as np\n",
    "from scipy.stats import t\n",
    "# Calculate the t-statistic\n",
    "t_statistic = (sample_mean - theoretical_mean) / (population_std / np.sqrt(sample_size))\n",
    "print(t_statistic)"
   ]
  },
  {
   "cell_type": "code",
   "execution_count": 4,
   "id": "3f4f4704",
   "metadata": {},
   "outputs": [
    {
     "name": "stdout",
     "output_type": "stream",
     "text": [
      "Critical Value: 1.6448536269514722\n"
     ]
    }
   ],
   "source": [
    "# Determine the Critical Value:\n",
    "\n",
    "from scipy.stats import norm\n",
    "# Calculate the critical value\n",
    "critical_value = norm.ppf(1 - alpha)\n",
    "# Print the critical value\n",
    "print(\"Critical Value:\", critical_value)"
   ]
  },
  {
   "cell_type": "code",
   "execution_count": 6,
   "id": "05ad2511",
   "metadata": {},
   "outputs": [
    {
     "name": "stdout",
     "output_type": "stream",
     "text": [
      "H1 is rejected and H0 get accpted\n"
     ]
    }
   ],
   "source": [
    "# Make a Decision:\n",
    "# Compare the test statistic with the critical value\n",
    "if t_statistic > critical_value:\n",
    "    print('H0 is rejected and H1 get accepted')\n",
    "else:\n",
    "    print('H1 is rejected and H0 get accpted')"
   ]
  },
  {
   "cell_type": "code",
   "execution_count": 12,
   "id": "f98e4e74",
   "metadata": {},
   "outputs": [
    {
     "name": "stdout",
     "output_type": "stream",
     "text": [
      "There is not enough evidence to support the restaurant owners' claim that the weekly operating costs are higher than the model suggests.\n"
     ]
    }
   ],
   "source": [
    "# conclusion\n",
    "\n",
    "print(\"There is not enough evidence to support the restaurant owners' claim that the weekly operating costs are higher than the model suggests.\")\n"
   ]
  },
  {
   "cell_type": "code",
   "execution_count": null,
   "id": "f8bff1d9",
   "metadata": {},
   "outputs": [],
   "source": []
  }
 ],
 "metadata": {
  "kernelspec": {
   "display_name": "Python 3 (ipykernel)",
   "language": "python",
   "name": "python3"
  },
  "language_info": {
   "codemirror_mode": {
    "name": "ipython",
    "version": 3
   },
   "file_extension": ".py",
   "mimetype": "text/x-python",
   "name": "python",
   "nbconvert_exporter": "python",
   "pygments_lexer": "ipython3",
   "version": "3.11.7"
  }
 },
 "nbformat": 4,
 "nbformat_minor": 5
}
