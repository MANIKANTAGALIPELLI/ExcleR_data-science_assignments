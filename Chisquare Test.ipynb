{
 "cells": [
  {
   "cell_type": "code",
   "execution_count": 1,
   "id": "32c79990",
   "metadata": {},
   "outputs": [
    {
     "data": {
      "text/html": [
       "<div>\n",
       "<style scoped>\n",
       "    .dataframe tbody tr th:only-of-type {\n",
       "        vertical-align: middle;\n",
       "    }\n",
       "\n",
       "    .dataframe tbody tr th {\n",
       "        vertical-align: top;\n",
       "    }\n",
       "\n",
       "    .dataframe thead th {\n",
       "        text-align: right;\n",
       "    }\n",
       "</style>\n",
       "<table border=\"1\" class=\"dataframe\">\n",
       "  <thead>\n",
       "    <tr style=\"text-align: right;\">\n",
       "      <th></th>\n",
       "      <th>Satisfaction</th>\n",
       "      <th>Smart Thermostat</th>\n",
       "      <th>Smart Light</th>\n",
       "      <th>Total</th>\n",
       "    </tr>\n",
       "  </thead>\n",
       "  <tbody>\n",
       "    <tr>\n",
       "      <th>0</th>\n",
       "      <td>Very Satisfied</td>\n",
       "      <td>50</td>\n",
       "      <td>70</td>\n",
       "      <td>120</td>\n",
       "    </tr>\n",
       "    <tr>\n",
       "      <th>1</th>\n",
       "      <td>Satisfied</td>\n",
       "      <td>80</td>\n",
       "      <td>100</td>\n",
       "      <td>180</td>\n",
       "    </tr>\n",
       "    <tr>\n",
       "      <th>2</th>\n",
       "      <td>Neutral</td>\n",
       "      <td>60</td>\n",
       "      <td>90</td>\n",
       "      <td>150</td>\n",
       "    </tr>\n",
       "    <tr>\n",
       "      <th>3</th>\n",
       "      <td>Unsatisfied</td>\n",
       "      <td>30</td>\n",
       "      <td>50</td>\n",
       "      <td>80</td>\n",
       "    </tr>\n",
       "    <tr>\n",
       "      <th>4</th>\n",
       "      <td>Very Unsatisfied</td>\n",
       "      <td>20</td>\n",
       "      <td>50</td>\n",
       "      <td>70</td>\n",
       "    </tr>\n",
       "  </tbody>\n",
       "</table>\n",
       "</div>"
      ],
      "text/plain": [
       "       Satisfaction  Smart Thermostat  Smart Light  Total\n",
       "0    Very Satisfied                50           70    120\n",
       "1         Satisfied                80          100    180\n",
       "2           Neutral                60           90    150\n",
       "3       Unsatisfied                30           50     80\n",
       "4  Very Unsatisfied                20           50     70"
      ]
     },
     "execution_count": 1,
     "metadata": {},
     "output_type": "execute_result"
    }
   ],
   "source": [
    "import pandas as pd\n",
    "\n",
    "df = pd.DataFrame({\n",
    "    'Satisfaction': ['Very Satisfied', 'Satisfied', 'Neutral', 'Unsatisfied', 'Very Unsatisfied'],\n",
    "    'Smart Thermostat': [50, 80, 60, 30, 20],\n",
    "    'Smart Light': [70, 100, 90, 50, 50],\n",
    "    'Total': [120, 180, 150, 80, 70]\n",
    "})\n",
    "df"
   ]
  },
  {
   "cell_type": "code",
   "execution_count": 2,
   "id": "9affb9ac",
   "metadata": {},
   "outputs": [],
   "source": [
    "# State the Hypotheses:\n",
    "# Ho: Null Hypothesis --> Data is following normal distribution.They are independent(No relationship)\n",
    "# H1: Alternative Hypothesis ---> Data is not following normal distribution.They are dependent (Relationship is their)\n",
    "    "
   ]
  },
  {
   "cell_type": "code",
   "execution_count": 3,
   "id": "9efc7d49",
   "metadata": {},
   "outputs": [
    {
     "name": "stderr",
     "output_type": "stream",
     "text": [
      "C:\\Users\\gmani\\anaconda3\\Lib\\site-packages\\researchpy\\crosstab.py:146: FutureWarning: Setting an item of incompatible dtype is deprecated and will raise in a future error of pandas. Value 'Pearson Chi-square ( 12.0) = ' has dtype incompatible with float64, please explicitly cast to a compatible dtype first.\n",
      "  table.iloc[0,0] = f\"Pearson Chi-square ({dof: .1f}) = \"\n"
     ]
    },
    {
     "data": {
      "text/html": [
       "<div>\n",
       "<style scoped>\n",
       "    .dataframe tbody tr th:only-of-type {\n",
       "        vertical-align: middle;\n",
       "    }\n",
       "\n",
       "    .dataframe tbody tr th {\n",
       "        vertical-align: top;\n",
       "    }\n",
       "\n",
       "    .dataframe thead th {\n",
       "        text-align: right;\n",
       "    }\n",
       "</style>\n",
       "<table border=\"1\" class=\"dataframe\">\n",
       "  <thead>\n",
       "    <tr style=\"text-align: right;\">\n",
       "      <th></th>\n",
       "      <th>Chi-square test</th>\n",
       "      <th>results</th>\n",
       "    </tr>\n",
       "  </thead>\n",
       "  <tbody>\n",
       "    <tr>\n",
       "      <th>0</th>\n",
       "      <td>Pearson Chi-square ( 12.0) =</td>\n",
       "      <td>15.0000</td>\n",
       "    </tr>\n",
       "    <tr>\n",
       "      <th>1</th>\n",
       "      <td>p-value =</td>\n",
       "      <td>0.2414</td>\n",
       "    </tr>\n",
       "    <tr>\n",
       "      <th>2</th>\n",
       "      <td>Cramer's V =</td>\n",
       "      <td>1.0000</td>\n",
       "    </tr>\n",
       "  </tbody>\n",
       "</table>\n",
       "</div>"
      ],
      "text/plain": [
       "                 Chi-square test  results\n",
       "0  Pearson Chi-square ( 12.0) =   15.0000\n",
       "1                     p-value =    0.2414\n",
       "2                  Cramer's V =    1.0000"
      ]
     },
     "execution_count": 3,
     "metadata": {},
     "output_type": "execute_result"
    }
   ],
   "source": [
    "# Chi-Square Statistic\n",
    "import researchpy as rp\n",
    "table,results=rp.crosstab(df[\"Smart Thermostat\"],df[\"Smart Light\"],test='chi-square')\n",
    "table\n",
    "results"
   ]
  },
  {
   "cell_type": "code",
   "execution_count": 4,
   "id": "8fb988e1",
   "metadata": {},
   "outputs": [
    {
     "data": {
      "text/plain": [
       "4"
      ]
     },
     "execution_count": 4,
     "metadata": {},
     "output_type": "execute_result"
    }
   ],
   "source": [
    "# the significance level (alpha) of 0.05 and the degrees of freedom \n",
    "alpha = 0.05 #  Significance level (alpha) 5%\n",
    "pvalue= 0.2414\n",
    "dof = len(df.index) - 1 #the degrees of freedom\n",
    "dof\n"
   ]
  },
  {
   "cell_type": "code",
   "execution_count": 13,
   "id": "9d20e74a",
   "metadata": {},
   "outputs": [
    {
     "name": "stdout",
     "output_type": "stream",
     "text": [
      "Critical Value: 9.487729036781154\n"
     ]
    }
   ],
   "source": [
    "# Determine the Critical Value:\n",
    "# Using the significance level (alpha) of 0.05 and the degrees of freedom \n",
    "alpha = 0.05\n",
    "dof = len(df.index) - 1\n",
    "# Critical value\n",
    "import scipy.stats as stats\n",
    "critical_value = stats.chi2.ppf(1 - alpha, dof)\n",
    "\n",
    "print(\"Critical Value:\", critical_value)\n",
    "\n"
   ]
  },
  {
   "cell_type": "code",
   "execution_count": 15,
   "id": "7a15d02b",
   "metadata": {},
   "outputs": [
    {
     "name": "stdout",
     "output_type": "stream",
     "text": [
      "Chi-Square test value: 5.638227513227513\n"
     ]
    }
   ],
   "source": [
    "# Chi-Square value\n",
    "# Calculate the Chi-Square test value\n",
    "dt = pd.DataFrame({'Smart Thermostat': [50, 80, 60, 30, 20],\n",
    "    'Smart Light': [70, 100, 90, 50, 50]})\n",
    "from scipy.stats import chi2_contingency\n",
    "chi2,p,dof,exp=chi2_contingency(dt)\n",
    "# Chi-Square test value\n",
    "print(\"Chi-Square test value:\", chi2)\n"
   ]
  },
  {
   "cell_type": "code",
   "execution_count": 16,
   "id": "f2eb9819",
   "metadata": {},
   "outputs": [
    {
     "name": "stdout",
     "output_type": "stream",
     "text": [
      "H1 is rejected and H0 get accpted\n"
     ]
    }
   ],
   "source": [
    "# Compare the Chi-Square statistic with the critical value\n",
    "if chi2 > critical_value:\n",
    "    print('H0 is rejected and H1 get accepted')\n",
    "else:\n",
    "    print('H1 is rejected and H0 get accpted')"
   ]
  },
  {
   "cell_type": "code",
   "execution_count": null,
   "id": "20053a16",
   "metadata": {},
   "outputs": [],
   "source": []
  }
 ],
 "metadata": {
  "kernelspec": {
   "display_name": "Python 3 (ipykernel)",
   "language": "python",
   "name": "python3"
  },
  "language_info": {
   "codemirror_mode": {
    "name": "ipython",
    "version": 3
   },
   "file_extension": ".py",
   "mimetype": "text/x-python",
   "name": "python",
   "nbconvert_exporter": "python",
   "pygments_lexer": "ipython3",
   "version": "3.11.7"
  }
 },
 "nbformat": 4,
 "nbformat_minor": 5
}
