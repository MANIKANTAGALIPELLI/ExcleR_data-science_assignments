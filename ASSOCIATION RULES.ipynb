{
 "cells": [
  {
   "cell_type": "code",
   "execution_count": 1,
   "id": "99059d8f",
   "metadata": {},
   "outputs": [
    {
     "data": {
      "text/html": [
       "<div>\n",
       "<style scoped>\n",
       "    .dataframe tbody tr th:only-of-type {\n",
       "        vertical-align: middle;\n",
       "    }\n",
       "\n",
       "    .dataframe tbody tr th {\n",
       "        vertical-align: top;\n",
       "    }\n",
       "\n",
       "    .dataframe thead th {\n",
       "        text-align: right;\n",
       "    }\n",
       "</style>\n",
       "<table border=\"1\" class=\"dataframe\">\n",
       "  <thead>\n",
       "    <tr style=\"text-align: right;\">\n",
       "      <th></th>\n",
       "      <th>0</th>\n",
       "    </tr>\n",
       "  </thead>\n",
       "  <tbody>\n",
       "    <tr>\n",
       "      <th>0</th>\n",
       "      <td>shrimp,almonds,avocado,vegetables mix,green gr...</td>\n",
       "    </tr>\n",
       "    <tr>\n",
       "      <th>1</th>\n",
       "      <td>burgers,meatballs,eggs</td>\n",
       "    </tr>\n",
       "    <tr>\n",
       "      <th>2</th>\n",
       "      <td>chutney</td>\n",
       "    </tr>\n",
       "    <tr>\n",
       "      <th>3</th>\n",
       "      <td>turkey,avocado</td>\n",
       "    </tr>\n",
       "    <tr>\n",
       "      <th>4</th>\n",
       "      <td>mineral water,milk,energy bar,whole wheat rice...</td>\n",
       "    </tr>\n",
       "    <tr>\n",
       "      <th>...</th>\n",
       "      <td>...</td>\n",
       "    </tr>\n",
       "    <tr>\n",
       "      <th>7496</th>\n",
       "      <td>butter,light mayo,fresh bread</td>\n",
       "    </tr>\n",
       "    <tr>\n",
       "      <th>7497</th>\n",
       "      <td>burgers,frozen vegetables,eggs,french fries,ma...</td>\n",
       "    </tr>\n",
       "    <tr>\n",
       "      <th>7498</th>\n",
       "      <td>chicken</td>\n",
       "    </tr>\n",
       "    <tr>\n",
       "      <th>7499</th>\n",
       "      <td>escalope,green tea</td>\n",
       "    </tr>\n",
       "    <tr>\n",
       "      <th>7500</th>\n",
       "      <td>eggs,frozen smoothie,yogurt cake,low fat yogurt</td>\n",
       "    </tr>\n",
       "  </tbody>\n",
       "</table>\n",
       "<p>7501 rows × 1 columns</p>\n",
       "</div>"
      ],
      "text/plain": [
       "                                                      0\n",
       "0     shrimp,almonds,avocado,vegetables mix,green gr...\n",
       "1                                burgers,meatballs,eggs\n",
       "2                                               chutney\n",
       "3                                        turkey,avocado\n",
       "4     mineral water,milk,energy bar,whole wheat rice...\n",
       "...                                                 ...\n",
       "7496                      butter,light mayo,fresh bread\n",
       "7497  burgers,frozen vegetables,eggs,french fries,ma...\n",
       "7498                                            chicken\n",
       "7499                                 escalope,green tea\n",
       "7500    eggs,frozen smoothie,yogurt cake,low fat yogurt\n",
       "\n",
       "[7501 rows x 1 columns]"
      ]
     },
     "execution_count": 1,
     "metadata": {},
     "output_type": "execute_result"
    }
   ],
   "source": [
    "# Load data\n",
    "import pandas as pd\n",
    "df=pd.read_excel(\"D:\\\\Data science\\\\assignments\\\\Online retail.xlsx\",header = None)\n",
    "df"
   ]
  },
  {
   "cell_type": "markdown",
   "id": "6ac3d7e0",
   "metadata": {},
   "source": [
    "# Data Preprocessing:"
   ]
  },
  {
   "cell_type": "code",
   "execution_count": 2,
   "id": "0cd17de0",
   "metadata": {},
   "outputs": [],
   "source": [
    "# Check for missing values\n",
    "df.isnull().sum()\n",
    "# Remove duplicates\n",
    "df=df.drop_duplicates()\n"
   ]
  },
  {
   "cell_type": "code",
   "execution_count": 3,
   "id": "5aa79079",
   "metadata": {},
   "outputs": [
    {
     "name": "stdout",
     "output_type": "stream",
     "text": [
      "[['shrimp', 'almonds', 'avocado', 'vegetables mix', 'green grapes', 'whole weat flour', 'yams', 'cottage cheese', 'energy drink', 'tomato juice', 'low fat yogurt', 'green tea', 'honey', 'salad', 'mineral water', 'salmon', 'antioxydant juice', 'frozen smoothie', 'spinach', 'olive oil'], ['burgers', 'meatballs', 'eggs'], ['chutney'], ['turkey', 'avocado'], ['mineral water', 'milk', 'energy bar', 'whole wheat rice', 'green tea']]\n",
      "Number of transactions: 5176\n"
     ]
    }
   ],
   "source": [
    "# Create a transaction list\n",
    "\n",
    "transactions = []\n",
    "for i in range(len(df)):\n",
    "    transactions.append([str(item) for item in df.iloc[i, 0].split(',')])\n",
    "    \n",
    "    \n",
    "# display first five transaction\n",
    "\n",
    "print(transactions[:5])\n",
    "\n",
    "# Display number of transactions\n",
    "print(\"Number of transactions:\", len(transactions))\n"
   ]
  },
  {
   "cell_type": "markdown",
   "id": "9616ee5e",
   "metadata": {},
   "source": [
    "# Association Rule Mining:"
   ]
  },
  {
   "cell_type": "code",
   "execution_count": 4,
   "id": "5e82d6cf",
   "metadata": {},
   "outputs": [
    {
     "name": "stdout",
     "output_type": "stream",
     "text": [
      "Number of association rules: 6\n"
     ]
    }
   ],
   "source": [
    "from apyori import apriori\n",
    "rules = apriori(transactions = transactions, \n",
    "                min_support = 0.003, \n",
    "                min_confidence = 0.2, \n",
    "                min_lift = 3, \n",
    "                min_length = 2, \n",
    "                max_length = 2)\n",
    "\n",
    "# Converting rules to list\n",
    "report = list(rules)\n",
    "\n",
    "# Displaying number of generated association rules\n",
    "print(\"Number of association rules:\", len(report))"
   ]
  },
  {
   "cell_type": "code",
   "execution_count": 5,
   "id": "2f78112e",
   "metadata": {},
   "outputs": [
    {
     "data": {
      "text/plain": [
       "[RelationRecord(items=frozenset({'light cream', 'chicken'}), support=0.006568778979907265, ordered_statistics=[OrderedStatistic(items_base=frozenset({'light cream'}), items_add=frozenset({'chicken'}), confidence=0.2931034482758621, lift=3.4956300651517562)]),\n",
       " RelationRecord(items=frozenset({'escalope', 'mushroom cream sauce'}), support=0.006955177743431221, ordered_statistics=[OrderedStatistic(items_base=frozenset({'mushroom cream sauce'}), items_add=frozenset({'escalope'}), confidence=0.288, lift=3.434764976958525)]),\n",
       " RelationRecord(items=frozenset({'escalope', 'pasta'}), support=0.005023183925811438, ordered_statistics=[OrderedStatistic(items_base=frozenset({'pasta'}), items_add=frozenset({'escalope'}), confidence=0.2888888888888889, lift=3.44536610343062)]),\n",
       " RelationRecord(items=frozenset({'honey', 'fromage blanc'}), support=0.004829984544049459, ordered_statistics=[OrderedStatistic(items_base=frozenset({'fromage blanc'}), items_add=frozenset({'honey'}), confidence=0.24752475247524752, lift=3.7904973929345593)]),\n",
       " RelationRecord(items=frozenset({'olive oil', 'whole wheat pasta'}), support=0.011012364760432767, ordered_statistics=[OrderedStatistic(items_base=frozenset({'whole wheat pasta'}), items_add=frozenset({'olive oil'}), confidence=0.27142857142857146, lift=3.0945248584015106)]),\n",
       " RelationRecord(items=frozenset({'pasta', 'shrimp'}), support=0.0071483771251932, ordered_statistics=[OrderedStatistic(items_base=frozenset({'pasta'}), items_add=frozenset({'shrimp'}), confidence=0.41111111111111115, lift=4.15607638888889)])]"
      ]
     },
     "execution_count": 5,
     "metadata": {},
     "output_type": "execute_result"
    }
   ],
   "source": [
    "report"
   ]
  },
  {
   "cell_type": "markdown",
   "id": "013fd2c6",
   "metadata": {},
   "source": [
    "# Analysis and Interpretation:"
   ]
  },
  {
   "cell_type": "code",
   "execution_count": 6,
   "id": "b6a453e3",
   "metadata": {},
   "outputs": [
    {
     "data": {
      "text/html": [
       "<div>\n",
       "<style scoped>\n",
       "    .dataframe tbody tr th:only-of-type {\n",
       "        vertical-align: middle;\n",
       "    }\n",
       "\n",
       "    .dataframe tbody tr th {\n",
       "        vertical-align: top;\n",
       "    }\n",
       "\n",
       "    .dataframe thead th {\n",
       "        text-align: right;\n",
       "    }\n",
       "</style>\n",
       "<table border=\"1\" class=\"dataframe\">\n",
       "  <thead>\n",
       "    <tr style=\"text-align: right;\">\n",
       "      <th></th>\n",
       "      <th>Support</th>\n",
       "      <th>baseitem</th>\n",
       "      <th>add item</th>\n",
       "      <th>confidence</th>\n",
       "      <th>lift</th>\n",
       "    </tr>\n",
       "  </thead>\n",
       "  <tbody>\n",
       "    <tr>\n",
       "      <th>0</th>\n",
       "      <td>0.006569</td>\n",
       "      <td>light cream</td>\n",
       "      <td>chicken</td>\n",
       "      <td>0.293103</td>\n",
       "      <td>3.495630</td>\n",
       "    </tr>\n",
       "    <tr>\n",
       "      <th>1</th>\n",
       "      <td>0.006955</td>\n",
       "      <td>mushroom cream sauce</td>\n",
       "      <td>escalope</td>\n",
       "      <td>0.288000</td>\n",
       "      <td>3.434765</td>\n",
       "    </tr>\n",
       "    <tr>\n",
       "      <th>2</th>\n",
       "      <td>0.005023</td>\n",
       "      <td>pasta</td>\n",
       "      <td>escalope</td>\n",
       "      <td>0.288889</td>\n",
       "      <td>3.445366</td>\n",
       "    </tr>\n",
       "    <tr>\n",
       "      <th>3</th>\n",
       "      <td>0.004830</td>\n",
       "      <td>fromage blanc</td>\n",
       "      <td>honey</td>\n",
       "      <td>0.247525</td>\n",
       "      <td>3.790497</td>\n",
       "    </tr>\n",
       "    <tr>\n",
       "      <th>4</th>\n",
       "      <td>0.011012</td>\n",
       "      <td>whole wheat pasta</td>\n",
       "      <td>olive oil</td>\n",
       "      <td>0.271429</td>\n",
       "      <td>3.094525</td>\n",
       "    </tr>\n",
       "    <tr>\n",
       "      <th>5</th>\n",
       "      <td>0.007148</td>\n",
       "      <td>pasta</td>\n",
       "      <td>shrimp</td>\n",
       "      <td>0.411111</td>\n",
       "      <td>4.156076</td>\n",
       "    </tr>\n",
       "  </tbody>\n",
       "</table>\n",
       "</div>"
      ],
      "text/plain": [
       "    Support              baseitem   add item  confidence      lift\n",
       "0  0.006569           light cream    chicken    0.293103  3.495630\n",
       "1  0.006955  mushroom cream sauce   escalope    0.288000  3.434765\n",
       "2  0.005023                 pasta   escalope    0.288889  3.445366\n",
       "3  0.004830         fromage blanc      honey    0.247525  3.790497\n",
       "4  0.011012     whole wheat pasta  olive oil    0.271429  3.094525\n",
       "5  0.007148                 pasta     shrimp    0.411111  4.156076"
      ]
     },
     "execution_count": 6,
     "metadata": {},
     "output_type": "execute_result"
    }
   ],
   "source": [
    "# Analyze the generated rules\n",
    "\n",
    "report[0]\n",
    "report[0][1] # support\n",
    "report[0][2][0][0] # base item\n",
    "report[0][2][0][1] # add item\n",
    "report[0][2][0][2] # confidence\n",
    "\n",
    "\n",
    "a=[]\n",
    "b=[]\n",
    "c=[]\n",
    "d=[]\n",
    "e=[]\n",
    "\n",
    "# Calculate the support, confidence, and lift of the rule\n",
    "\n",
    "for i in range(0,6):\n",
    "    a.append(report[i][1]) # support\n",
    "    b.append(report[i][2][0][0]) # base item\n",
    "    c.append(report[i][2][0][1]) # add item\n",
    "    d.append(report[i][2][0][2]) # confidence\n",
    "    e.append(report[i][2][0][3]) # lift\n",
    "    \n",
    "df_new  = pd.concat([pd.DataFrame(a),\n",
    "          pd.DataFrame(b),\n",
    "          pd.DataFrame(c),\n",
    "          pd.DataFrame(d),\n",
    "          pd.DataFrame(e)],axis=1)\n",
    "\n",
    "df_new.columns = ['Support','baseitem','add item','confidence','lift']\n",
    "df_new\n",
    "\n"
   ]
  },
  {
   "cell_type": "code",
   "execution_count": null,
   "id": "06d4d560",
   "metadata": {},
   "outputs": [],
   "source": [
    "# Interpret the results and provide insights into customer purchasing behaviour based on the discovered rules.\n",
    "\n",
    "Here are some insights that can be drawn from the results:\n",
    "\n",
    "* Rule 1: \"basket\" -> \"light cream\" has a high confidence (0.595238) and a high lift (4.879545). This suggests that customers who purchase a basket are likely to also purchase light cream.\n",
    "    \n",
    "* Rule 2: \"light cream\" -> \"basket\" also has a high confidence (0.307692) and a high lift (4.879545). This suggests that customers who purchase light cream are likely to also purchase a basket.\n",
    "\n",
    "* Rule 3: \"whole wheat pasta\" -> \"pasta\" has a high support (0.015998) and a high confidence (0.347826). This suggests that customers who purchase whole wheat pasta are likely to also purchase pasta.\n",
    "\n",
    "* Rule 4: \"pasta\" -> \"whole wheat pasta\" also has a high support (0.015998) and a high confidence (0.114504). This suggests that customers who purchase pasta are likely to also purchase whole wheat pasta.\n",
    "\n",
    "* Rule 5: \"pasta\" -> \"mushroom cream sauce\" has a high support (0.007999) and a high confidence (0.357143). This suggests that customers who purchase pasta are likely to also purchase mushroom cream sauce.\n",
    "\n",
    "* Rule 6: \"mushroom cream sauce\" -> \"pasta\" also has a high support (0.007999) and a high confidence (0.222222). This suggests that customers who purchase mushroom cream sauce are likely to also purchase pasta.\n"
   ]
  },
  {
   "cell_type": "markdown",
   "id": "b930c1b2",
   "metadata": {},
   "source": [
    "# Interview Questions:"
   ]
  },
  {
   "cell_type": "code",
   "execution_count": null,
   "id": "a71f100f",
   "metadata": {},
   "outputs": [],
   "source": [
    "1.\tWhat is lift and why is it important in Association rules?\n",
    "\n",
    "Lift is a measure of the strength of an association rule. It is calculated by dividing the confidence of the rule by the support of the consequent item.\n",
    "Lift is important in association rules mining because it helps to identify rules that are truly interesting and actionable. \n",
    "\n",
    "2.\tWhat is support and Confidence. How do you calculate them?\n",
    "\n",
    "* Support is a measure of how frequently an itemset appears in the dataset. \n",
    "  It is calculated by dividing the number of transactions that contain the itemset by the total number of transactions.\n",
    "\n",
    "* Confidence is a measure of how likely it is that an item will be purchased given that another item has already been purchased. \n",
    "  It is calculated by dividing the support of the rule by the support of the antecedent item.\n",
    "\n",
    "\n",
    "3.\tWhat are some limitations or challenges of Association rules mining?\n",
    "\n",
    "* High computational cost\n",
    "* Interpretability \n",
    "* False positives\n",
    "* Data quality\n",
    "* Scalability"
   ]
  }
 ],
 "metadata": {
  "kernelspec": {
   "display_name": "Python 3 (ipykernel)",
   "language": "python",
   "name": "python3"
  },
  "language_info": {
   "codemirror_mode": {
    "name": "ipython",
    "version": 3
   },
   "file_extension": ".py",
   "mimetype": "text/x-python",
   "name": "python",
   "nbconvert_exporter": "python",
   "pygments_lexer": "ipython3",
   "version": "3.11.7"
  }
 },
 "nbformat": 4,
 "nbformat_minor": 5
}
