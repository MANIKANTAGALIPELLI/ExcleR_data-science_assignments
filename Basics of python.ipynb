{
 "cells": [
  {
   "cell_type": "code",
   "execution_count": 1,
   "id": "8e3c769a",
   "metadata": {},
   "outputs": [
    {
     "name": "stdout",
     "output_type": "stream",
     "text": [
      "Enter a number: 15\n",
      "It is not a prime number.\n"
     ]
    }
   ],
   "source": [
    "# Exercise 1: Prime Numbers\n",
    "\n",
    "def is_prime(number):\n",
    "  if number <= 1:\n",
    "    return False\n",
    "  for divisor in range(2, number):\n",
    "    if number % divisor == 0:\n",
    "      return False\n",
    "  return True\n",
    "\n",
    "# Get input from the user\n",
    "number = int(input(\"Enter a number: \"))\n",
    "\n",
    "# Check if the number is prime\n",
    "if is_prime(number):\n",
    "  print(\"It is a prime number.\")\n",
    "else:\n",
    "  print(\"It is not a prime number.\")\n"
   ]
  },
  {
   "cell_type": "code",
   "execution_count": 2,
   "id": "56292216",
   "metadata": {},
   "outputs": [
    {
     "name": "stdout",
     "output_type": "stream",
     "text": [
      "What is the product of 9 and 4? 36\n",
      "Correct!\n"
     ]
    }
   ],
   "source": [
    "# Exercise 2: Product of Random Numbers\n",
    "\n",
    "import random\n",
    "\n",
    "# Generate two random numbers\n",
    "number1 = random.randint(1, 10)\n",
    "number2 = random.randint(1, 10)\n",
    "\n",
    "# Calculate the product of the two numbers\n",
    "product = number1 * number2\n",
    "\n",
    "# Prompt the user to enter the product\n",
    "user_input = int(input(f\"What is the product of {number1} and {number2}? \"))\n",
    "\n",
    "# Check if the user's answer is correct\n",
    "if user_input == product:\n",
    "  print(\"Correct!\")\n",
    "else:\n",
    "  print(\"Incorrect. The correct answer is {product}\")\n"
   ]
  },
  {
   "cell_type": "code",
   "execution_count": 3,
   "id": "1eeb9007",
   "metadata": {},
   "outputs": [
    {
     "name": "stdout",
     "output_type": "stream",
     "text": [
      "The square of 100 is: 10000\n",
      "The square of 102 is: 10404\n",
      "The square of 104 is: 10816\n",
      "The square of 106 is: 11236\n",
      "The square of 108 is: 11664\n",
      "The square of 110 is: 12100\n",
      "The square of 112 is: 12544\n",
      "The square of 114 is: 12996\n",
      "The square of 116 is: 13456\n",
      "The square of 118 is: 13924\n",
      "The square of 120 is: 14400\n",
      "The square of 122 is: 14884\n",
      "The square of 124 is: 15376\n",
      "The square of 126 is: 15876\n",
      "The square of 128 is: 16384\n",
      "The square of 130 is: 16900\n",
      "The square of 132 is: 17424\n",
      "The square of 134 is: 17956\n",
      "The square of 136 is: 18496\n",
      "The square of 138 is: 19044\n",
      "The square of 140 is: 19600\n",
      "The square of 142 is: 20164\n",
      "The square of 144 is: 20736\n",
      "The square of 146 is: 21316\n",
      "The square of 148 is: 21904\n",
      "The square of 150 is: 22500\n",
      "The square of 152 is: 23104\n",
      "The square of 154 is: 23716\n",
      "The square of 156 is: 24336\n",
      "The square of 158 is: 24964\n",
      "The square of 160 is: 25600\n",
      "The square of 162 is: 26244\n",
      "The square of 164 is: 26896\n",
      "The square of 166 is: 27556\n",
      "The square of 168 is: 28224\n",
      "The square of 170 is: 28900\n",
      "The square of 172 is: 29584\n",
      "The square of 174 is: 30276\n",
      "The square of 176 is: 30976\n",
      "The square of 178 is: 31684\n",
      "The square of 180 is: 32400\n",
      "The square of 182 is: 33124\n",
      "The square of 184 is: 33856\n",
      "The square of 186 is: 34596\n",
      "The square of 188 is: 35344\n",
      "The square of 190 is: 36100\n",
      "The square of 192 is: 36864\n",
      "The square of 194 is: 37636\n",
      "The square of 196 is: 38416\n",
      "The square of 198 is: 39204\n"
     ]
    }
   ],
   "source": [
    "# Exercise 3: Squares of Even/Odd Numbers within the range of 100 to 200. \n",
    "       \n",
    " #Even Numbers\n",
    "\n",
    "def calculate_numbers(): \n",
    "    for i in range(100, 200): \n",
    "        if i % 2 == 0: \n",
    "            square = i ** 2 \n",
    "            print(f\"The square of {i} is: {square}\") \n",
    "calculate_numbers()"
   ]
  },
  {
   "cell_type": "code",
   "execution_count": 1,
   "id": "d8073dad",
   "metadata": {},
   "outputs": [
    {
     "name": "stdout",
     "output_type": "stream",
     "text": [
      "Enter your text: my dad gifted me a new mobile and a new dress.\n",
      "Word counts:\n",
      "'my': 1\n",
      "'dad': 1\n",
      "'gifted': 1\n",
      "'me': 1\n",
      "'a': 2\n",
      "'new': 2\n",
      "'mobile': 1\n",
      "'and': 1\n",
      "'dress.': 1\n"
     ]
    }
   ],
   "source": [
    "# Exercise 4: Word counter\n",
    "\n",
    "text = input(\"Enter your text: \")\n",
    "\n",
    "# Split the text into words\n",
    "words = text.split()\n",
    "\n",
    "# Create a dictionary to store the word counts\n",
    "word_counts = {}\n",
    "\n",
    "# Count the number of times each word appears in the text\n",
    "for word in words:\n",
    "  if word in word_counts:\n",
    "    word_counts[word] += 1\n",
    "  else:\n",
    "    word_counts[word] = 1\n",
    "\n",
    "# Print the word counts\n",
    "print(\"Word counts:\")\n",
    "for word, count in word_counts.items():\n",
    "  print(f\"'{word}': {count}\")"
   ]
  },
  {
   "cell_type": "code",
   "execution_count": 2,
   "id": "885dfd5f",
   "metadata": {},
   "outputs": [
    {
     "name": "stdout",
     "output_type": "stream",
     "text": [
      "Enter the input : 12121\n",
      "The input is a palindrome\n"
     ]
    }
   ],
   "source": [
    "# Exercise 5: Check for Palindrome\n",
    "# Palindrome means reading the sequence of characters from forward and backward. \n",
    "# enter the input\n",
    "user_input = input('Enter the input : ').lower()\n",
    "\n",
    "# knowing length input entered\n",
    "le = len(user_input)\n",
    "count = 0\n",
    "# taking its half length of the entered input and seeing it is a palindrome or not\n",
    "for i in range(le // 2):\n",
    "  if user_input[i] == user_input[le - 1 - i]:\n",
    "    count += 1\n",
    "if count == le // 2:\n",
    "  print('The input is a palindrome')\n",
    "else:\n",
    "  print('The input is not a palindrome')"
   ]
  },
  {
   "cell_type": "code",
   "execution_count": null,
   "id": "27e35ea4",
   "metadata": {},
   "outputs": [],
   "source": []
  }
 ],
 "metadata": {
  "kernelspec": {
   "display_name": "Python 3 (ipykernel)",
   "language": "python",
   "name": "python3"
  },
  "language_info": {
   "codemirror_mode": {
    "name": "ipython",
    "version": 3
   },
   "file_extension": ".py",
   "mimetype": "text/x-python",
   "name": "python",
   "nbconvert_exporter": "python",
   "pygments_lexer": "ipython3",
   "version": "3.11.7"
  }
 },
 "nbformat": 4,
 "nbformat_minor": 5
}
