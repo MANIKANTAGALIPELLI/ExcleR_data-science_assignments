{
 "cells": [
  {
   "cell_type": "code",
   "execution_count": 1,
   "id": "e3ba8f89",
   "metadata": {},
   "outputs": [],
   "source": [
    "#  a. Build 99% Confidence Interval Using Sample Standard Deviation\n",
    "import numpy as np\n",
    "from scipy import stats\n",
    "\n",
    "# Sample data\n",
    "data = np.array([1.13, 1.55, 1.43, 0.92, 1.25, 1.36, 1.32, 0.85, 1.07, 1.48, 1.20, 1.33, 1.18, 1.22, 1.29])\n",
    "\n"
   ]
  },
  {
   "cell_type": "code",
   "execution_count": 2,
   "id": "0c5caa96",
   "metadata": {},
   "outputs": [
    {
     "name": "stdout",
     "output_type": "stream",
     "text": [
      "1.2386666666666666\n",
      "0.18661427836285438\n"
     ]
    },
    {
     "data": {
      "text/plain": [
       "15"
      ]
     },
     "execution_count": 2,
     "metadata": {},
     "output_type": "execute_result"
    }
   ],
   "source": [
    "# sample mean and standard deviation\n",
    "sample_mean = np.mean(data)\n",
    "print(sample_mean)\n",
    "sample_std = np.std(data)\n",
    "print(sample_std)\n",
    "len(data)\n"
   ]
  },
  {
   "cell_type": "code",
   "execution_count": 3,
   "id": "2df9949a",
   "metadata": {},
   "outputs": [
    {
     "name": "stdout",
     "output_type": "stream",
     "text": [
      "0.14343499802810397\n"
     ]
    }
   ],
   "source": [
    "# margin of error\n",
    "margin_error = stats.t.ppf(1 - 0.005, len(data) - 1) * sample_std / np.sqrt(len(data))\n",
    "print(margin_error)\n"
   ]
  },
  {
   "cell_type": "code",
   "execution_count": 4,
   "id": "55eb928a",
   "metadata": {},
   "outputs": [
    {
     "name": "stdout",
     "output_type": "stream",
     "text": [
      "99% Confidence Interval: (1.0952316686385626, 1.3821016646947706)\n"
     ]
    }
   ],
   "source": [
    "# Calculate the confidence interval\n",
    "lower_bound = sample_mean - margin_error\n",
    "upper_bound = sample_mean + margin_error\n",
    "\n",
    "print(\"99% Confidence Interval:\", (lower_bound, upper_bound))\n",
    "\n"
   ]
  },
  {
   "cell_type": "code",
   "execution_count": 6,
   "id": "42385536",
   "metadata": {},
   "outputs": [],
   "source": [
    "# b. Build 99% Confidence Interval Using Known Population Standard Deviation\n",
    "\n",
    "import numpy as np\n",
    "from scipy import stats\n",
    "\n",
    "data = np.array([1.13, 1.55, 1.43, 0.92, 1.25, 1.36, 1.32, 0.85, 1.07, 1.48, 1.20, 1.33, 1.18, 1.22, 1.29])\n",
    "# population standard deviation\n",
    "population_std = 0.2\n"
   ]
  },
  {
   "cell_type": "code",
   "execution_count": 7,
   "id": "c0c1cc6e",
   "metadata": {},
   "outputs": [],
   "source": [
    "# sample mean\n",
    "sample_mean = np.mean(data)\n",
    "\n"
   ]
  },
  {
   "cell_type": "code",
   "execution_count": 8,
   "id": "3a030bbb",
   "metadata": {},
   "outputs": [
    {
     "name": "stdout",
     "output_type": "stream",
     "text": [
      "99% Confidence Interval: (1.0849431688867082, 1.392390164446625)\n"
     ]
    }
   ],
   "source": [
    "# margin of error\n",
    "margin_error = stats.t.ppf(1 - 0.005, len(data) - 1) * population_std / np.sqrt(len(data))\n",
    "\n",
    "# Calculate the confidence interval\n",
    "lower_bound = sample_mean - margin_error\n",
    "upper_bound = sample_mean + margin_error\n",
    "\n",
    "print(\"99% Confidence Interval:\", (lower_bound, upper_bound))\n",
    "\n"
   ]
  },
  {
   "cell_type": "code",
   "execution_count": null,
   "id": "013dc858",
   "metadata": {},
   "outputs": [],
   "source": []
  }
 ],
 "metadata": {
  "kernelspec": {
   "display_name": "Python 3 (ipykernel)",
   "language": "python",
   "name": "python3"
  },
  "language_info": {
   "codemirror_mode": {
    "name": "ipython",
    "version": 3
   },
   "file_extension": ".py",
   "mimetype": "text/x-python",
   "name": "python",
   "nbconvert_exporter": "python",
   "pygments_lexer": "ipython3",
   "version": "3.11.7"
  }
 },
 "nbformat": 4,
 "nbformat_minor": 5
}
